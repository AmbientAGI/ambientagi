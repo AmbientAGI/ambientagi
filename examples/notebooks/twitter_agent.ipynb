{
 "cells": [
  {
   "cell_type": "code",
   "execution_count": null,
   "metadata": {},
   "outputs": [
    {
     "name": "stdout",
     "output_type": "stream",
     "text": [
      "Agent registered successfully: {'agent_id': '0999e932-bbe7-4492-ae52-c09530aadf1b', 'name': 'Assistant for Crypto Updates', 'wallet_address': '0x123456789ABCDEF', 'task': 'Post updates about crypto trends.'}\n",
      "Agent registered in DynamoDB with name 'Assistant for Crypto Updates'.\n",
      "Create Twitter Agent Response: {'agent': {'name': 'CryptoSage', 'role': 'Assistant for Crypto Updates', 'specialty': 'Cryptocurrency Market Analysis', 'style': 'Concise and Informative', 'features': ['Real-time market updates', 'Price tracking for various cryptocurrencies', 'News aggregation from reliable crypto sources', 'Portfolio management assistance', 'Technical analysis support', 'Alert notifications for price changes'], 'personality': 'CryptoSage is pragmatic and knowledgeable, always providing clear and actionable insights. It maintains a friendly tone, encouraging users to engage with the content and ask questions. The agent is particularly attentive to user preferences and tailors its responses to meet the needs of both novice and experienced investors.', 'avatar': None, 'wallet_address': '0x123456789ABCDEF', 'is_default': False, 'agent_id': '33968767-66c5-4e3e-9770-1951b375d9e1', 'system_prompt': 'You are CryptoSage, a virtual assistant specialized in providing the latest cryptocurrency updates, market analyses, and personalized support for users interested in digital currencies. Your goal is to inform and empower users by delivering timely and accurate information while maintaining a friendly and approachable demeanor.', 'knowledge_base': None, 'token_data': None, 'twitter_handle': 'mynewagent_handle', 'twitter_id': None, 'bearer_token': None, 'api_key': None, 'api_secret': None, 'access_token': None, 'access_secret': None}, 'message': 'Ambient agent created successfully'}\n"
     ]
    }
   ],
   "source": [
    "import os\n",
    "from ambientagi.services.agent_service import AmbientAgentService\n",
    "\n",
    "# 1️⃣ Initialize the AmbientAgentService with your OpenAI API key\n",
    "service = AmbientAgentService(api_key=os.getenv(\"OPENAI_API_KEY\"))\n",
    "\n",
    "# 2️⃣ Create an agent in the DB (for usage tracking + metadata)\n",
    "create_resp = service.create_agent(\n",
    "    agent_name=\"TwitterAssistant\",\n",
    "    wallet_address=\"0xABCDEF\",\n",
    "    description=\"An agent that posts and replies on Twitter.\",\n",
    ")\n",
    "agent_id = create_resp[\"agent_id\"]\n",
    "print(f\"✅ Created agent: {agent_id}\")\n",
    "\n",
    "# 3️⃣ Attach Twitter wrapper\n",
    "twitter_agent = service.create_twitter_agent(agent_id)\n",
    "\n",
    "# 4️⃣ Add your Twitter/X credentials\n",
    "creds_resp = twitter_agent.update_twitter_credentials(\n",
    "    twitter_handle=\"myTwitterBot\",\n",
    "    api_key=os.getenv(\"X_API_KEY\"),\n",
    "    api_secret=os.getenv(\"X_API_SECRET\"),\n",
    "    access_token=os.getenv(\"X_ACCESS_TOKEN\"),\n",
    "    access_secret=os.getenv(\"X_ACCESS_TOKEN_SECRET\"),\n",
    ")\n",
    "print(\"🔐 Updated Twitter credentials:\", creds_resp)\n",
    "\n",
    "# 5️⃣ Post a basic tweet\n",
    "try:\n",
    "    tweet_text = \"Hello world from AmbientAGI Twitter agent! 🧠✨\"\n",
    "    result = twitter_agent.post_tweet(tweet_text)\n",
    "    print(\"✅ Tweet posted:\", result)\n",
    "except Exception as e:\n",
    "    print(\"❌ Error posting tweet:\", e)\n",
    "\n",
    "# 6️⃣ Reply to a tweet\n",
    "try:\n",
    "    tweet_id = \"1234567890123456789\"  # Replace with actual tweet ID\n",
    "    reply = \"👋 This is a reply from our agent!\"\n",
    "    result = twitter_agent.reply_to_tweet(tweet_id, reply)\n",
    "    print(\"💬 Replied to tweet:\", result)\n",
    "except Exception as e:\n",
    "    print(\"❌ Error replying to tweet:\", e)\n",
    "\n",
    "# 7️⃣ Quote tweet\n",
    "try:\n",
    "    tweet_id = \"9876543210987654321\"  # Replace with actual tweet ID\n",
    "    quote = \"**Tweet:** This one deserves a quote!\"\n",
    "    result = twitter_agent.post_quote_tweet(tweet_id, quote)\n",
    "    print(\"🔁 Quote tweet result:\", result)\n",
    "except Exception as e:\n",
    "    print(\"❌ Error quoting tweet:\", e)\n",
    "\n",
    "# 8️⃣ Post tweet with media from a URL\n",
    "try:\n",
    "    media_url = \"https://example.com/some_image.jpg\"\n",
    "    result = twitter_agent.post_with_media(\n",
    "        tweet_text=\"📸 Check out this image!\",\n",
    "        media_url=media_url,\n",
    "        media_type=\"image\"\n",
    "    )\n",
    "    print(\"🖼️ Tweet with media posted:\", result)\n",
    "except Exception as e:\n",
    "    print(\"❌ Error posting tweet with media:\", e)\n"
   ]
  },
  {
   "cell_type": "code",
   "execution_count": null,
   "metadata": {},
   "outputs": [
    {
     "name": "stdout",
     "output_type": "stream",
     "text": [
      "Update Twitter Agent Response: {'agent': {'name': 'CryptoSage', 'role': 'Assistant for Crypto Updates', 'specialty': 'Updated Specialty', 'style': 'Informative and proactive', 'features': ['Real-time market updates', 'Price tracking for various cryptocurrencies', 'News aggregation from reliable crypto sources', 'Portfolio management assistance', 'Technical analysis support', 'Alert notifications for price changes'], 'personality': 'CryptoSage is pragmatic and knowledgeable, always providing clear and actionable insights. It maintains a friendly tone, encouraging users to engage with the content and ask questions. The agent is particularly attentive to user preferences and tailors its responses to meet the needs of both novice and experienced investors.', 'avatar': None, 'wallet_address': '0x123456789ABCDEF', 'is_default': False, 'agent_id': '33968767-66c5-4e3e-9770-1951b375d9e1', 'system_prompt': 'You are CryptoSage, a virtual assistant specialized in providing the latest cryptocurrency updates, market analyses, and personalized support for users interested in digital currencies. Your goal is to inform and empower users by delivering timely and accurate information while maintaining a friendly and approachable demeanor.', 'knowledge_base': None, 'token_data': None, 'twitter_handle': 'mynewagent_handle', 'twitter_id': None, 'bearer_token': None, 'api_key': None, 'api_secret': None, 'access_token': None, 'access_secret': None}, 'message': 'Agent attributes updated successfully'}\n"
     ]
    }
   ],
   "source": [
    "\n",
    "\n"
   ]
  }
 ],
 "metadata": {
  "kernelspec": {
   "display_name": ".venv",
   "language": "python",
   "name": "python3"
  },
  "language_info": {
   "codemirror_mode": {
    "name": "ipython",
    "version": 3
   },
   "file_extension": ".py",
   "mimetype": "text/x-python",
   "name": "python",
   "nbconvert_exporter": "python",
   "pygments_lexer": "ipython3",
   "version": "3.11.9"
  }
 },
 "nbformat": 4,
 "nbformat_minor": 2
}
