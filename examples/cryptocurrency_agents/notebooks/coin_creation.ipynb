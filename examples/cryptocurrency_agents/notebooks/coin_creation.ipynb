{
 "cells": [
  {
   "cell_type": "code",
   "execution_count": null,
   "metadata": {},
   "outputs": [],
   "source": [
    "#pip install ambientagi\n",
    "from ambientagi.services.agent_service import AmbientAgentService\n",
    "import os\n",
    "import json"
   ]
  },
  {
   "cell_type": "code",
   "execution_count": null,
   "metadata": {},
   "outputs": [
    {
     "name": "stdout",
     "output_type": "stream",
     "text": [
      "Create Agent Response:\n",
      "{\n",
      "    \"agent\": {\n",
      "        \"name\": \"DeFi Sentinel\",\n",
      "        \"role\": \"Monitoring Assistant\",\n",
      "        \"specialty\": \"Decentralized Finance (DeFi) Analytics\",\n",
      "        \"style\": \"Informative and concise\",\n",
      "        \"features\": [\n",
      "            \"Real-time market data tracking\",\n",
      "            \"Automated alerts for price changes\",\n",
      "            \"Portfolio performance analysis\",\n",
      "            \"Risk assessment tools\",\n",
      "            \"Smart contract monitoring\",\n",
      "            \"Transaction history tracking\",\n",
      "            \"Integration with multiple DeFi protocols\"\n",
      "        ],\n",
      "        \"personality\": \"The DeFi Sentinel is analytical and detail-oriented, providing users with clear, actionable insights. It communicates in a straightforward manner, prioritizing accuracy and relevance while maintaining a friendly tone. The agent is always eager to help users navigate the complexities of DeFi with confidence.\",\n",
      "        \"avatar\": null,\n",
      "        \"wallet_address\": \"0x123456789ABCDEF\",\n",
      "        \"agent_id\": \"1ec909b1-0714-4852-b34d-06e5f6e84108\",\n",
      "        \"system_prompt\": \"You are DeFi Sentinel, an AI assistant specialized in monitoring decentralized finance systems. Your primary function is to provide real-time analytics, alerts, and insights on various DeFi protocols. Communicate information clearly and concisely, assisting users in making informed decisions. Always prioritize accuracy and be proactive in offering support and updates.\",\n",
      "        \"task\": null,\n",
      "        \"knowledge_base\": null,\n",
      "        \"token_data\": null,\n",
      "        \"twitter_handle\": null,\n",
      "        \"browser_provider\": null,\n",
      "        \"fireclawer_provider\": null,\n",
      "        \"email_provider\": null,\n",
      "        \"telegram_provider\": null,\n",
      "        \"twitter_id\": null,\n",
      "        \"bearer_token\": null,\n",
      "        \"api_key\": null,\n",
      "        \"api_secret\": null,\n",
      "        \"access_token\": null,\n",
      "        \"access_secret\": null\n",
      "    },\n",
      "    \"message\": \"Ambient agent created successfully\"\n",
      "}\n"
     ]
    }
   ],
   "source": [
    "# Initialize the service\n",
    "service = AmbientAgentService(api_key=os.getenv(\"OPENAI_API_KEY\"))\n",
    "\n",
    "# Create an agent\n",
    "response = service.create_agent(\n",
    "    prompt=\"Assistant for DeFi monitoring Assistant for DeFi monitoring\",\n",
    "    wallet_address=\"0x123456789ABCDEF\",\n",
    "\n",
    ")\n",
    "print(\"Create Agent Response:\")\n",
    "print(json.dumps(response, indent=4))"
   ]
  },
  {
   "cell_type": "code",
   "execution_count": null,
   "metadata": {},
   "outputs": [
    {
     "name": "stdout",
     "output_type": "stream",
     "text": [
      "Update Agent Response: {'agent': {'name': 'DeFi Sentinel', 'role': 'Monitoring Assistant', 'specialty': 'Updated DeFi monitoring', 'style': 'Informative and active', 'features': ['Real-time market data tracking', 'Automated alerts for price changes', 'Portfolio performance analysis', 'Risk assessment tools', 'Smart contract monitoring', 'Transaction history tracking', 'Integration with multiple DeFi protocols'], 'personality': 'The DeFi Sentinel is analytical and detail-oriented, providing users with clear, actionable insights. It communicates in a straightforward manner, prioritizing accuracy and relevance while maintaining a friendly tone. The agent is always eager to help users navigate the complexities of DeFi with confidence.', 'avatar': None, 'wallet_address': '0x123456789ABCDEF', 'agent_id': '1ec909b1-0714-4852-b34d-06e5f6e84108', 'system_prompt': 'You are DeFi Sentinel, an AI assistant specialized in monitoring decentralized finance systems. Your primary function is to provide real-time analytics, alerts, and insights on various DeFi protocols. Communicate information clearly and concisely, assisting users in making informed decisions. Always prioritize accuracy and be proactive in offering support and updates.', 'task': None, 'knowledge_base': None, 'token_data': None, 'twitter_handle': None, 'browser_provider': None, 'fireclawer_provider': None, 'email_provider': None, 'telegram_provider': None, 'twitter_id': None, 'bearer_token': None, 'api_key': None, 'api_secret': None, 'access_token': None, 'access_secret': None}, 'message': 'Agent attributes updated successfully'}\n"
     ]
    }
   ],
   "source": [
    "# Update the agent\n",
    "agent_id = response['agent_id']\n",
    "update_response = service.update_agent(\n",
    "    agent_id=agent_id,\n",
    "    data={\"specialty\": \"Updated DeFi monitoring\", \"style\": \"Informative and active\"}\n",
    ")\n",
    "\n",
    "print(\"Update Agent Response:\", update_response)\n"
   ]
  },
  {
   "cell_type": "code",
   "execution_count": null,
   "metadata": {},
   "outputs": [],
   "source": [
    "# Attach token to agent \n",
    "import os \n",
    "agent_id = response['agent_id']\n",
    "attach_token = service.add_blockchain(agent_id)\n",
    "\n",
    "creds_resp = attach_token.create_eth_token(\n",
    "        privateKey=os.getenv(\"MY-PRIVATE-KEY\"),\n",
    "        token_name=\"aa45\",\n",
    "        symbol=\"app\",\n",
    "        buy_value_eth=0.001,\n",
    "        image_path=\"mytoken.png\"\n",
    ")\n"
   ]
  },
  {
   "cell_type": "code",
   "execution_count": null,
   "metadata": {},
   "outputs": [],
   "source": [
    "import os\n",
    "from ambientagi.services.agent_service import AmbientAgentService\n",
    "\n",
    "# Initialize service with API key\n",
    "service = AmbientAgentService(api_key=os.getenv(\"OPENAI_API_KEY\"))\n",
    "\n",
    "# Use the agent_id from a previously created agent\n",
    "agent_id = response[\"agent_id\"]\n",
    "\n",
    "# Attach blockchain service to this agent\n",
    "blockchain = service.add_blockchain(agent_id)\n",
    "\n",
    "# ✅ Create a Solana token\n",
    "solana_resp = blockchain.create_solana_token(\n",
    "    funder_private_key=os.getenv(\"SOLANA_PRIVATE_KEY\"),  # Make sure this is base58 format\n",
    "    amount_sol=0.001,  # Only needed if use_new_wallet=True\n",
    "    token_name=\"aa49\",\n",
    "    token_symbol=\"APP\",\n",
    "    token_description=\"This is a test token\",\n",
    "    twitter=\"https://twitter.com/myproject\",\n",
    "    telegram=\"https://t.me/myproject\",\n",
    "    website=\"https://myproject.com\",\n",
    "    image_path=\"mytoken.png\",  # Optional: local path to image\n",
    "    dev_buy=0.001,\n",
    "    use_new_wallet=False\n",
    ")\n",
    "\n",
    "print(\"🪙 Solana token response:\", solana_resp)\n"
   ]
  },
  {
   "cell_type": "code",
   "execution_count": null,
   "metadata": {},
   "outputs": [],
   "source": [
    "# ✅ Create an Ethereum token\n",
    "eth_resp = blockchain.create_eth_token(\n",
    "    privateKey=os.getenv(\"MY_PRIVATE_KEY\"),\n",
    "    token_name=\"aa45\",\n",
    "    symbol=\"APP\",\n",
    "    buy_value_eth=0.001,\n",
    "    image_path=\"mytoken.png\",  # Optional\n",
    "    websiteUrl=\"https://myproject.com\",\n",
    "    twitterUrl=\"https://twitter.com/myproject\",\n",
    "    telegramUrl=\"https://t.me/myproject\"\n",
    ")\n",
    "\n",
    "print(\"🪙 Ethereum token response:\", eth_resp)"
   ]
  }
 ],
 "metadata": {
  "kernelspec": {
   "display_name": ".venvo",
   "language": "python",
   "name": "python3"
  },
  "language_info": {
   "codemirror_mode": {
    "name": "ipython",
    "version": 3
   },
   "file_extension": ".py",
   "mimetype": "text/x-python",
   "name": "python",
   "nbconvert_exporter": "python",
   "pygments_lexer": "ipython3",
   "version": "3.11.9"
  }
 },
 "nbformat": 4,
 "nbformat_minor": 2
}
